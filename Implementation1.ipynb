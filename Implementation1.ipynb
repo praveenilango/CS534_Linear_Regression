{
 "cells": [
  {
   "cell_type": "markdown",
   "metadata": {},
   "source": [
    "# Linear Regression"
   ]
  },
  {
   "cell_type": "code",
   "execution_count": 1,
   "metadata": {},
   "outputs": [],
   "source": [
    "import numpy as np\n",
    "import pandas as pd\n",
    "import matplotlib.pyplot as plt"
   ]
  },
  {
   "cell_type": "markdown",
   "metadata": {},
   "source": [
    "## *Functions*"
   ]
  },
  {
   "cell_type": "code",
<<<<<<< HEAD
   "execution_count": 4,
=======
   "execution_count": null,
>>>>>>> 7895732eb87ee116dca1ef61841bd81a718cf444
   "metadata": {},
   "outputs": [],
   "source": [
    "#Read CSVs\n",
    "def get_data():\n",
    "    \"\"\"\n",
    "    Get training, validation and test data\n",
    "    \"\"\"\n",
    "    train = pd.read_csv(\"./PA1_train.csv\")\n",
    "    dev = pd.read_csv(\"./PA1_dev.csv\")\n",
    "    test = pd.read_csv(\"./PA1_test.csv\")\n",
    "    return train,dev,test\n",
    "\n",
    "#Add bias\n",
    "def add_bias(df):\n",
    "    \"\"\"\n",
    "    Add dummy variable to control intercept\n",
    "    \"\"\"\n",
    "    df[\"dummy\"] = 1\n",
    "    return df\n",
    "\n",
    "#Seperate Features from response\n",
    "def seperate(df_train):\n",
    "    \"\"\"\n",
    "    input: dataframe\n",
    "    \"\"\"\n",
    "    #Grab all continuous features\n",
    "    x = df_train.iloc[:,0:-1]\n",
    "    #Split dates\n",
    "    x = split_date(x)\n",
    "    x = x.drop([\"date\"], axis=1)\n",
    "    #Grab response y\n",
    "    y = df_train.iloc[:,-1]\n",
    "    \n",
    "    return x,y\n",
    "    \n",
    "    \n",
    "#Add new features [Month, Day, Year]\n",
    "def split_date(df_train):\n",
    "    \"\"\"\n",
    "    splits date into seperate features\n",
    "    input: dataframe\n",
    "    \"\"\"\n",
    "    print(\"Splitting date...\")\n",
    "    for i in range(0,len(df_train)):\n",
    "        df_train.loc[i,\"month\"] = int(df_train.loc[i,\"date\"].split(\"/\")[0])\n",
    "        df_train.loc[i,\"day\"] = int(df_train.loc[i,\"date\"].split(\"/\")[1])\n",
    "        df_train.loc[i,\"year\"] = int(df_train.loc[i,\"date\"].split(\"/\")[2])\n",
    "    print(\"Done\")\n",
    "    return df_train\n",
    "\n",
    "#Normalize data\n",
    "def normalize(df1):\n",
    "    \"\"\"\n",
    "    Normalizes feature matrix\n",
    "    input: feature df\n",
    "    \"\"\"\n",
    "    print(\"Normalizing...\")\n",
    "    x = (df1 - np.min(df1))/(np.max(df1) - np.min(df1))\n",
    "    print(\"DONE\")\n",
    "    return x\n",
    "\n",
    "#Linear regression function\n",
    "def linear_regress(x,y,eta,t,lamb):\n",
    "    \"\"\"\n",
    "    x: input/features\n",
    "    y: opuput\n",
    "    eta: learning rate\n",
    "    t: iterations\n",
    "    lamb: regularization constant\n",
    "    \"\"\"\n",
    "    n = 0\n",
    "    e = np.zeros(len(y))\n",
    "    errors = []\n",
    "    gradient = []\n",
    "    \n",
    "    #Initialize weights [w] and predictions [y_hat]\n",
    "    w = np.zeros(len(x[0]))\n",
    "    \n",
    "     \n",
    "    while n<t:\n",
    "        #Initialize gradient for each epoch\n",
    "        gradient_vector = np.zeros(len(x[0]))\n",
    "                \n",
    "        #Traverse through each data point   \n",
    "        for i in range(len(x)):\n",
    "            #Predicted value\n",
    "            y_hat = np.dot(w.T,x[i])\n",
    "\n",
    "            #Error\n",
    "            e[i] = ((y[i] - y_hat)**2)\n",
    "            \n",
    "            \n",
    "            #Regularization\n",
    "            r = (np.dot(w.T,w))**0.5\n",
    "            \n",
    "            #Traverse through each feature to update corresponding weights\n",
    "            for j in range(len(x[0])):\n",
    "                gradient_vector[j] += ((-2)*(y[i] - y_hat)*x[i,j]) + (2*lamb*r)\n",
    "        \n",
    "        \n",
    "        \n",
    "        #Update weights\n",
    "        w -=  eta*gradient_vector\n",
    "        #Calculate SSE\n",
    "        errors.append(sum(e))\n",
    "        #Norm of gradient\n",
    "        gradient.append(np.dot(gradient_vector.T,gradient_vector)**0.5)\n",
    "        convergence_criteria = np.dot(gradient_vector.T,gradient_vector)**0.5\n",
    "        ####\n",
    "        print(f'#####Iteration : {n+1}#####')\n",
    "        print(f'Gradient : {gradient[n]}')\n",
    "        print(f'Convergence criteria: {convergence_criteria}')\n",
    "        \n",
    "        ####\n",
    "        if (gradient[n]/(10**10)) > 1 and (n+1) <= 6:\n",
    "            t = 8\n",
    "        \n",
    "        n += 1\n",
    "        if convergence_criteria < 0.5:\n",
    "            return w,errors,gradient\n",
    "        \n",
    "    \n",
    "    return w,errors,gradient"
   ]
  },
  {
   "cell_type": "code",
<<<<<<< HEAD
   "execution_count": 3,
=======
   "execution_count": 14,
>>>>>>> 7895732eb87ee116dca1ef61841bd81a718cf444
   "metadata": {},
   "outputs": [
    {
     "name": "stdout",
     "output_type": "stream",
     "text": [
      "Splitting date...\n",
      "Done\n",
      "Normalizing...\n",
      "DONE\n"
     ]
    }
   ],
   "source": [
    "#####DATA PREP#####\n",
    "\n",
    "#load csv\n",
    "df_train,df_dev,df_test = get_data()\n",
    "#Drop ID Feature\n",
    "df_train = df_train.drop(\"id\", axis=1)\n",
    "\n",
    "#Grab features and Response\n",
    "x,y = seperate(df_train)\n",
    "\n",
    "#Normalize continuous features\n",
    "x_norm_df = normalize(x)\n",
    "#Add Bias \n",
    "x_norm_df = add_bias(x_norm_df)\n",
    "x_norm = x_norm_df.values\n"
   ]
  },
  {
   "cell_type": "code",
<<<<<<< HEAD
   "execution_count": 7,
   "metadata": {},
   "outputs": [
    {
     "name": "stdout",
     "output_type": "stream",
     "text": [
      "#####Iteration : 1#####\n",
      "Gradient : 205280.8150291437\n",
      "#####Iteration : 2#####\n",
      "Gradient : 500873455.43640727\n",
      "#####Iteration : 3#####\n",
      "Gradient : 735286111211.8607\n",
      "#####Iteration : 4#####\n",
      "Gradient : 1171518705697846.8\n",
      "#####Iteration : 5#####\n",
      "Gradient : 1.8237010900996122e+18\n",
      "#####Iteration : 6#####\n",
      "Gradient : 2.8558627390481115e+21\n",
      "#####Iteration : 7#####\n",
      "Gradient : 4.465219852061818e+24\n",
      "#####Iteration : 8#####\n",
      "Gradient : 6.984339760171041e+27\n",
      "#####Iteration : 9#####\n",
      "Gradient : 1.092349427179339e+31\n",
      "#####Iteration : 10#####\n",
      "Gradient : 1.7084800410233974e+34\n"
     ]
    }
   ],
   "source": [
    "weights,sse,gradient = linear_regress(x_norm, y, 0.01, 10, 2)"
=======
   "execution_count": null,
   "metadata": {},
   "outputs": [],
   "source": [
    "weights,sse,gradient = linear_regress(x_norm, y, 10**-5, 2000, 0)"
>>>>>>> 7895732eb87ee116dca1ef61841bd81a718cf444
   ]
  },
  {
   "cell_type": "code",
<<<<<<< HEAD
   "execution_count": 8,
=======
   "execution_count": 16,
>>>>>>> 7895732eb87ee116dca1ef61841bd81a718cf444
   "metadata": {},
   "outputs": [
    {
     "data": {
      "text/plain": [
       "[417729.13677477534,\n",
<<<<<<< HEAD
       " 143754355571.63043,\n",
       " 6.510911400187375e+17,\n",
       " 6.182698006445095e+23,\n",
       " 2.0474861264759399e+30,\n",
       " 4.6503402985317204e+36,\n",
       " 1.1602079624468746e+43,\n",
       " 2.823576331524043e+49,\n",
       " 6.916305668136074e+55,\n",
       " 1.6912720137817135e+62]"
      ]
     },
     "execution_count": 8,
=======
       " 143754355571.63046,\n",
       " 6.7552674391282664e+16,\n",
       " 3.1745743328271015e+22,\n",
       " 1.4918613554582052e+28,\n",
       " 7.010862152357387e+33,\n",
       " 3.294688741653646e+39,\n",
       " 1.5483079924384758e+45]"
      ]
     },
     "execution_count": 16,
>>>>>>> 7895732eb87ee116dca1ef61841bd81a718cf444
     "metadata": {},
     "output_type": "execute_result"
    }
   ],
   "source": [
    "sse"
   ]
  },
  {
   "cell_type": "code",
   "execution_count": 60,
   "metadata": {},
   "outputs": [],
   "source": [
    "#x_norm_df"
   ]
  },
  {
   "cell_type": "code",
<<<<<<< HEAD
   "execution_count": 10,
=======
   "execution_count": 18,
>>>>>>> 7895732eb87ee116dca1ef61841bd81a718cf444
   "metadata": {},
   "outputs": [
    {
     "data": {
      "text/plain": [
<<<<<<< HEAD
       "[<matplotlib.lines.Line2D at 0x11c5f5d68>]"
      ]
     },
     "execution_count": 10,
=======
       "Text(0, 0.5, 'SSE')"
      ]
     },
     "execution_count": 18,
>>>>>>> 7895732eb87ee116dca1ef61841bd81a718cf444
     "metadata": {},
     "output_type": "execute_result"
    },
    {
     "data": {
<<<<<<< HEAD
      "image/png": "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\n",
      "text/plain": [
       "<matplotlib.figure.Figure at 0x11c3539e8>"
      ]
     },
     "metadata": {},
=======
      "image/png": "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\n",
      "text/plain": [
       "<Figure size 432x288 with 1 Axes>"
      ]
     },
     "metadata": {
      "needs_background": "light"
     },
>>>>>>> 7895732eb87ee116dca1ef61841bd81a718cf444
     "output_type": "display_data"
    }
   ],
   "source": [
<<<<<<< HEAD
    "plt.plot(sse)"
=======
    "plt.plot(gradient)\n",
    "plt.legend(['1e-0'])\n",
    "plt.xlabel('iterations')\n",
    "plt.ylabel('SSE')"
>>>>>>> 7895732eb87ee116dca1ef61841bd81a718cf444
   ]
  },
  {
   "cell_type": "code",
   "execution_count": null,
   "metadata": {},
   "outputs": [],
   "source": []
  }
 ],
 "metadata": {
  "kernelspec": {
   "display_name": "Python 3",
   "language": "python",
   "name": "python3"
  },
  "language_info": {
   "codemirror_mode": {
    "name": "ipython",
    "version": 3
   },
   "file_extension": ".py",
   "mimetype": "text/x-python",
   "name": "python",
   "nbconvert_exporter": "python",
   "pygments_lexer": "ipython3",
   "version": "3.7.4"
  }
 },
 "nbformat": 4,
 "nbformat_minor": 2
}
