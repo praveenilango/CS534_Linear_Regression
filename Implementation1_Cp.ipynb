{
 "cells": [
  {
   "cell_type": "markdown",
   "metadata": {},
   "source": [
    "# Linear Regression"
   ]
  },
  {
   "cell_type": "code",
   "execution_count": 2,
   "metadata": {},
   "outputs": [],
   "source": [
    "import numpy as np\n",
    "import pandas as pd\n",
    "import matplotlib.pyplot as plt"
   ]
  },
  {
   "cell_type": "markdown",
   "metadata": {},
   "source": [
    "## *Functions*"
   ]
  },
  {
   "cell_type": "code",
   "execution_count": null,
   "metadata": {},
   "outputs": [],
   "source": [
    "#Read CSVs\n",
    "def get_data():\n",
    "    \"\"\"\n",
    "    Get training, validation and test data\n",
    "    \"\"\"\n",
    "    train = pd.read_csv(\"./PA1_train.csv\")\n",
    "    dev = pd.read_csv(\"./PA1_dev.csv\")\n",
    "    test = pd.read_csv(\"./PA1_test.csv\")\n",
    "    return train,dev,test\n",
    "\n",
    "#Add bias\n",
    "def add_bias(df):\n",
    "    \"\"\"\n",
    "    Add dummy variable to control intercept\n",
    "    \"\"\"\n",
    "    df[\"dummy\"] = 1\n",
    "    return df\n",
    "\n",
    "#Seperate Features from response\n",
    "def seperate(df_train):\n",
    "    \"\"\"\n",
    "    input: dataframe\n",
    "    \"\"\"\n",
    "    #Grab all continuous features\n",
    "    x = df_train.iloc[:,0:-1]\n",
    "    #Split dates\n",
    "    x = split_date(x)\n",
    "    x = x.drop([\"date\"], axis=1)\n",
    "    #Grab response y\n",
    "    y = df_train.iloc[:,-1]\n",
    "    \n",
    "    return x,y\n",
    "    \n",
    "    \n",
    "#Add new features [Month, Day, Year]\n",
    "def split_date(df_train):\n",
    "    \"\"\"\n",
    "    splits date into seperate features\n",
    "    input: dataframe\n",
    "    \"\"\"\n",
    "    print(\"Splitting date...\")\n",
    "    for i in range(0,len(df_train)):\n",
    "        df_train.loc[i,\"month\"] = int(df_train.loc[i,\"date\"].split(\"/\")[0])\n",
    "        df_train.loc[i,\"day\"] = int(df_train.loc[i,\"date\"].split(\"/\")[1])\n",
    "        df_train.loc[i,\"year\"] = int(df_train.loc[i,\"date\"].split(\"/\")[2])\n",
    "    print(\"Done\")\n",
    "    return df_train\n",
    "\n",
    "#Normalize data\n",
    "def normalize(df1):\n",
    "    \"\"\"\n",
    "    Normalizes feature matrix\n",
    "    input: feature df\n",
    "    \"\"\"\n",
    "    print(\"Normalizing...\")\n",
    "    x = (df1 - np.min(df1))/(np.max(df1) - np.min(df1))\n",
    "    print(\"DONE\")\n",
    "    return x\n",
    "\n",
    "#Linear regression function\n",
    "def linear_regress(x,y,eta,t,lamb):\n",
    "    \"\"\"\n",
    "    x: input/features\n",
    "    y: opuput\n",
    "    eta: learning rate\n",
    "    t: iterations\n",
    "    lamb: regularization constant\n",
    "    \"\"\"\n",
    "    print(f'#Learning Rate : {eta}#####')\n",
    "    \n",
    "    n = 0\n",
    "    e = np.zeros(len(y))\n",
    "    errors = []\n",
    "    gradient = []\n",
    "    \n",
    "    #Initialize weights [w] and predictions [y_hat]\n",
    "    w = np.zeros(len(x[0]))\n",
    "    \n",
    "    cur_grad = 0\n",
    "    prev_grad = 0\n",
    "     \n",
    "    while n<t:\n",
    "        #Initialize gradient for each epoch\n",
    "        gradient_vector = np.zeros(len(x[0]))\n",
    "        \n",
    "        \"\"\"        \n",
    "        #Traverse through each data point   \n",
    "        for i in range(len(x)):\n",
    "            #Predicted value\n",
    "            y_hat = np.dot(w.T,x[i])\n",
    "\n",
    "            #Error\n",
    "            e[i] = ((y[i] - y_hat)**2)\n",
    "            \n",
    "            \n",
    "            #Regularization\n",
    "            if np.dot(w.T,w) == 0:\n",
    "                r = 0\n",
    "            else:\n",
    "                r = (np.dot(w.T,w))**0.5\n",
    "            \n",
    "            #Traverse through each feature to update corresponding weights\n",
    "            #for j in range(len(x[0])):\n",
    "            #    gradient_vector[j] += ((-2)*(y[i] - y_hat)*x[i,j]) + (2*lamb*r)\n",
    "            gradient_vector += \n",
    "        \"\"\"\n",
    "        \n",
    "        #y_hat = np.matmul(w.T, x)\n",
    "        y_hat = np.matmul(x, w)\n",
    "        e = (y-y_hat)**2\n",
    "        \n",
    "        gradient_vector = (-2)*np.matmul(x.T, (y-y_hat))  \n",
    "        \n",
    "        #Update weights\n",
    "        w -=  eta*gradient_vector\n",
    "        #Calculate SSE\n",
    "        errors.append(sum(e))\n",
    "        #Norm of gradient\n",
    "        convergence_criteria = np.dot(gradient_vector.T,gradient_vector)**0.5\n",
    "        gradient.append(convergence_criteria)\n",
    "        \n",
    "        ####\n",
    "        #print(f'#####Iteration : {n+1}#####')\n",
    "        #print(f'Gradient : {gradient[n]}')\n",
    "\n",
    "        \n",
    "        ####\n",
    "        if (gradient[n]/(10**9)) > 1 and (n+1) <= 6:\n",
    "            t = 8\n",
    "        \n",
    "        n += 1\n",
    "        if convergence_criteria < 0.5:\n",
    "            print(f'#Iteration : {n}#####')\n",
    "            print(f'Gradient : {gradient[n-1]}')\n",
    "            print()\n",
    "            print()\n",
    "            print()\n",
    "            return w,errors,gradient, n\n",
    "        if (n) % 5000 == 0:\n",
    "            print(f'#Iteration : {n}#####')\n",
    "            print(f'Gradient : {gradient[n-1]}')\n",
    "\n",
    "    print(f'#Iteration : {n}#####')\n",
    "    print(f'Gradient : {gradient[n-1]}')\n",
    "    print()\n",
    "    print()\n",
    "    print()\n",
    "    return w,errors,gradient, n"
   ]
  },
  {
   "cell_type": "code",
   "execution_count": null,
   "metadata": {},
   "outputs": [],
   "source": [
    "#####DATA PREP#####\n",
    "\n",
    "#load csv\n",
    "df_train,df_dev,df_test = get_data()\n",
    "#Drop ID Feature\n",
    "df_train = df_train.drop(\"id\", axis=1)\n",
    "\n",
    "#Grab features and Response\n",
    "x,y = seperate(df_train)\n",
    "\n",
    "#Normalize continuous features\n",
    "x_norm_df = normalize(x)\n",
    "#Add Bias \n",
    "x_norm_df = add_bias(x_norm_df)\n",
    "x_norm = x_norm_df.values\n",
    "\n",
    "x_norm_df"
   ]
  },
  {
   "cell_type": "code",
   "execution_count": null,
   "metadata": {},
   "outputs": [],
   "source": [
    "weights1, sse1, gradient1, iter1 = linear_regress(x_norm, y, 10**0,  200000, 0)\n",
    "weights2, sse2, gradient2, iter2 = linear_regress(x_norm, y, 10**-1, 200000, 0)\n",
    "weights3, sse3, gradient3, iter3 = linear_regress(x_norm, y, 10**-2, 200000, 0)\n",
    "weights4, sse4, gradient4, iter4 = linear_regress(x_norm, y, 10**-3, 200000, 0)\n",
    "weights5, sse5, gradient5, iter5 = linear_regress(x_norm, y, 10**-4, 200000, 0)\n",
    "weights6, sse6, gradient6, iter6 = linear_regress(x_norm, y, 10**-5, 500000, 0)\n",
    "weights7, sse7, gradient7, iter7 = linear_regress(x_norm, y, 10**-6, 5000000, 0)\n",
    "weights8, sse8, gradient8, iter8 = linear_regress(x_norm, y, 10**-7, 50000000, 0)\n"
   ]
  },
  {
   "cell_type": "code",
   "execution_count": 27,
   "metadata": {},
   "outputs": [
    {
     "data": {
      "text/plain": [
       "[417729.13677477534,\n",
       " 1441711259931547.5,\n",
       " 6.794374698184466e+24,\n",
       " 3.202181295174746e+34,\n",
       " 1.5091845552447712e+44,\n",
       " 7.112770364740612e+53,\n",
       " 3.352240922803048e+63,\n",
       " 1.579907494303781e+73]"
      ]
     },
     "execution_count": 27,
     "metadata": {},
     "output_type": "execute_result"
    }
   ],
   "source": [
    "sse1"
   ]
  },
  {
   "cell_type": "code",
   "execution_count": 60,
   "metadata": {},
   "outputs": [],
   "source": [
    "#x_norm_df"
   ]
  },
  {
   "cell_type": "code",
   "execution_count": 8,
   "metadata": {},
   "outputs": [
    {
     "data": {
      "text/plain": [
       "Text(0, 0.5, 'SSE')"
      ]
     },
     "execution_count": 8,
     "metadata": {},
     "output_type": "execute_result"
    },
    {
     "data": {
      "image/png": "[encoded data removed]",
      "text/plain": [
       "<Figure size 432x288 with 1 Axes>"
      ]
     },
     "metadata": {
      "needs_background": "light"
     },
     "output_type": "display_data"
    }
   ],
   "source": [
    "plt.plot(sse)\n",
    "plt.legend(['1e-0'])\n",
    "plt.xlabel('iterations')\n",
    "plt.ylabel('SSE')"
   ]
  },
  {
   "cell_type": "code",
   "execution_count": null,
   "metadata": {},
   "outputs": [],
   "source": []
  }
 ],
 "metadata": {
  "kernelspec": {
   "display_name": "Python 3",
   "language": "python",
   "name": "python3"
  },
  "language_info": {
   "codemirror_mode": {
    "name": "ipython",
    "version": 3
   },
   "file_extension": ".py",
   "mimetype": "text/x-python",
   "name": "python",
   "nbconvert_exporter": "python",
   "pygments_lexer": "ipython3",
   "version": "3.7.4"
  }
 },
 "nbformat": 4,
 "nbformat_minor": 2
}
